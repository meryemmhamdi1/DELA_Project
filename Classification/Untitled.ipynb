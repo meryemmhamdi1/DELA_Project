{
 "cells": [
  {
   "cell_type": "code",
   "execution_count": 1,
   "metadata": {
    "collapsed": false,
    "scrolled": true
   },
   "outputs": [
    {
     "data": {
      "text/html": [
       "<div>\n",
       "<table border=\"1\" class=\"dataframe\">\n",
       "  <thead>\n",
       "    <tr style=\"text-align: right;\">\n",
       "      <th></th>\n",
       "      <th>ProblemID</th>\n",
       "      <th>UserID</th>\n",
       "      <th>SubmissionNumber</th>\n",
       "      <th>TimeStamp</th>\n",
       "      <th>TimeSinceLast</th>\n",
       "      <th>Grade</th>\n",
       "      <th>GradeDiff</th>\n",
       "      <th>NVideoEvents</th>\n",
       "      <th>NForumEvents</th>\n",
       "      <th>NumberOfLoads</th>\n",
       "      <th>...</th>\n",
       "      <th>NumberOfThreadsLaunched</th>\n",
       "      <th>DistinctIds</th>\n",
       "      <th>NumberOfComments</th>\n",
       "      <th>ScoreRelevantEvents</th>\n",
       "      <th>ComAndPost</th>\n",
       "      <th>DurationOfVideoActivity</th>\n",
       "      <th>SelectiveNumOfEvents</th>\n",
       "      <th>NumberOfPosts</th>\n",
       "      <th>NumberOfSpeedChange</th>\n",
       "      <th>PlaysDownlsPerVideo</th>\n",
       "    </tr>\n",
       "  </thead>\n",
       "  <tbody>\n",
       "    <tr>\n",
       "      <th>0</th>\n",
       "      <td>0</td>\n",
       "      <td>0f8619e980de128c5fc940567257a513</td>\n",
       "      <td>0</td>\n",
       "      <td>1393149950</td>\n",
       "      <td>NaN</td>\n",
       "      <td>83.333333</td>\n",
       "      <td>NaN</td>\n",
       "      <td>NaN</td>\n",
       "      <td>NaN</td>\n",
       "      <td>NaN</td>\n",
       "      <td>...</td>\n",
       "      <td>NaN</td>\n",
       "      <td>NaN</td>\n",
       "      <td>NaN</td>\n",
       "      <td>NaN</td>\n",
       "      <td>NaN</td>\n",
       "      <td>NaN</td>\n",
       "      <td>NaN</td>\n",
       "      <td>NaN</td>\n",
       "      <td>NaN</td>\n",
       "      <td>NaN</td>\n",
       "    </tr>\n",
       "    <tr>\n",
       "      <th>1</th>\n",
       "      <td>0</td>\n",
       "      <td>c08faf7d79db5d0f90f25962bcc40727</td>\n",
       "      <td>0</td>\n",
       "      <td>1393261919</td>\n",
       "      <td>NaN</td>\n",
       "      <td>61.111168</td>\n",
       "      <td>NaN</td>\n",
       "      <td>NaN</td>\n",
       "      <td>NaN</td>\n",
       "      <td>NaN</td>\n",
       "      <td>...</td>\n",
       "      <td>NaN</td>\n",
       "      <td>NaN</td>\n",
       "      <td>NaN</td>\n",
       "      <td>NaN</td>\n",
       "      <td>NaN</td>\n",
       "      <td>NaN</td>\n",
       "      <td>NaN</td>\n",
       "      <td>NaN</td>\n",
       "      <td>NaN</td>\n",
       "      <td>NaN</td>\n",
       "    </tr>\n",
       "    <tr>\n",
       "      <th>2</th>\n",
       "      <td>0</td>\n",
       "      <td>c08faf7d79db5d0f90f25962bcc40727</td>\n",
       "      <td>1</td>\n",
       "      <td>1393262186</td>\n",
       "      <td>267.0</td>\n",
       "      <td>66.666667</td>\n",
       "      <td>5.555499</td>\n",
       "      <td>0.0</td>\n",
       "      <td>0.0</td>\n",
       "      <td>NaN</td>\n",
       "      <td>...</td>\n",
       "      <td>NaN</td>\n",
       "      <td>NaN</td>\n",
       "      <td>NaN</td>\n",
       "      <td>NaN</td>\n",
       "      <td>NaN</td>\n",
       "      <td>NaN</td>\n",
       "      <td>NaN</td>\n",
       "      <td>NaN</td>\n",
       "      <td>NaN</td>\n",
       "      <td>NaN</td>\n",
       "    </tr>\n",
       "    <tr>\n",
       "      <th>3</th>\n",
       "      <td>0</td>\n",
       "      <td>c08faf7d79db5d0f90f25962bcc40727</td>\n",
       "      <td>2</td>\n",
       "      <td>1393262705</td>\n",
       "      <td>519.0</td>\n",
       "      <td>83.333333</td>\n",
       "      <td>16.666667</td>\n",
       "      <td>0.0</td>\n",
       "      <td>0.0</td>\n",
       "      <td>NaN</td>\n",
       "      <td>...</td>\n",
       "      <td>NaN</td>\n",
       "      <td>NaN</td>\n",
       "      <td>NaN</td>\n",
       "      <td>NaN</td>\n",
       "      <td>NaN</td>\n",
       "      <td>NaN</td>\n",
       "      <td>NaN</td>\n",
       "      <td>NaN</td>\n",
       "      <td>NaN</td>\n",
       "      <td>NaN</td>\n",
       "    </tr>\n",
       "    <tr>\n",
       "      <th>4</th>\n",
       "      <td>0</td>\n",
       "      <td>c08faf7d79db5d0f90f25962bcc40727</td>\n",
       "      <td>3</td>\n",
       "      <td>1393264265</td>\n",
       "      <td>1560.0</td>\n",
       "      <td>100.000000</td>\n",
       "      <td>16.666667</td>\n",
       "      <td>12.0</td>\n",
       "      <td>1.0</td>\n",
       "      <td>2.0</td>\n",
       "      <td>...</td>\n",
       "      <td>0.0</td>\n",
       "      <td>2.0</td>\n",
       "      <td>0.0</td>\n",
       "      <td>0.0</td>\n",
       "      <td>0.0</td>\n",
       "      <td>78.0</td>\n",
       "      <td>7.0</td>\n",
       "      <td>0.0</td>\n",
       "      <td>3.0</td>\n",
       "      <td>0.5</td>\n",
       "    </tr>\n",
       "  </tbody>\n",
       "</table>\n",
       "<p>5 rows × 27 columns</p>\n",
       "</div>"
      ],
      "text/plain": [
       "   ProblemID                            UserID  SubmissionNumber   TimeStamp  \\\n",
       "0          0  0f8619e980de128c5fc940567257a513                 0  1393149950   \n",
       "1          0  c08faf7d79db5d0f90f25962bcc40727                 0  1393261919   \n",
       "2          0  c08faf7d79db5d0f90f25962bcc40727                 1  1393262186   \n",
       "3          0  c08faf7d79db5d0f90f25962bcc40727                 2  1393262705   \n",
       "4          0  c08faf7d79db5d0f90f25962bcc40727                 3  1393264265   \n",
       "\n",
       "   TimeSinceLast       Grade  GradeDiff  NVideoEvents  NForumEvents  \\\n",
       "0            NaN   83.333333        NaN           NaN           NaN   \n",
       "1            NaN   61.111168        NaN           NaN           NaN   \n",
       "2          267.0   66.666667   5.555499           0.0           0.0   \n",
       "3          519.0   83.333333  16.666667           0.0           0.0   \n",
       "4         1560.0  100.000000  16.666667          12.0           1.0   \n",
       "\n",
       "   NumberOfLoads         ...           NumberOfThreadsLaunched  DistinctIds  \\\n",
       "0            NaN         ...                               NaN          NaN   \n",
       "1            NaN         ...                               NaN          NaN   \n",
       "2            NaN         ...                               NaN          NaN   \n",
       "3            NaN         ...                               NaN          NaN   \n",
       "4            2.0         ...                               0.0          2.0   \n",
       "\n",
       "   NumberOfComments  ScoreRelevantEvents  ComAndPost  DurationOfVideoActivity  \\\n",
       "0               NaN                  NaN         NaN                      NaN   \n",
       "1               NaN                  NaN         NaN                      NaN   \n",
       "2               NaN                  NaN         NaN                      NaN   \n",
       "3               NaN                  NaN         NaN                      NaN   \n",
       "4               0.0                  0.0         0.0                     78.0   \n",
       "\n",
       "   SelectiveNumOfEvents  NumberOfPosts  NumberOfSpeedChange  \\\n",
       "0                   NaN            NaN                  NaN   \n",
       "1                   NaN            NaN                  NaN   \n",
       "2                   NaN            NaN                  NaN   \n",
       "3                   NaN            NaN                  NaN   \n",
       "4                   7.0            0.0                  3.0   \n",
       "\n",
       "   PlaysDownlsPerVideo  \n",
       "0                  NaN  \n",
       "1                  NaN  \n",
       "2                  NaN  \n",
       "3                  NaN  \n",
       "4                  0.5  \n",
       "\n",
       "[5 rows x 27 columns]"
      ]
     },
     "execution_count": 1,
     "metadata": {},
     "output_type": "execute_result"
    }
   ],
   "source": [
    "import pandas as pd\n",
    "outputTrain = pd.read_csv('OutputTableTrain.csv')\n",
    "outputTrain.head()"
   ]
  },
  {
   "cell_type": "code",
   "execution_count": 35,
   "metadata": {
    "collapsed": false
   },
   "outputs": [
    {
     "data": {
      "text/plain": [
       "36712.0"
      ]
     },
     "execution_count": 35,
     "metadata": {},
     "output_type": "execute_result"
    }
   ],
   "source": [
    "outputTrain[outputTrain['Improved']==1]['NVideoAndForum_'].sum()"
   ]
  },
  {
   "cell_type": "code",
   "execution_count": 2,
   "metadata": {
    "collapsed": false
   },
   "outputs": [
    {
     "data": {
      "text/plain": [
       "(42954, 27)"
      ]
     },
     "execution_count": 2,
     "metadata": {},
     "output_type": "execute_result"
    }
   ],
   "source": [
    "outputTrain.shape"
   ]
  },
  {
   "cell_type": "code",
   "execution_count": 3,
   "metadata": {
    "collapsed": false
   },
   "outputs": [],
   "source": [
    "improved_list = []\n",
    "for i in range(0,len(outputTrain)):\n",
    "    if outputTrain.iloc[i][\"GradeDiff\"]>=0:\n",
    "        improved_list.append(1)\n",
    "    else:\n",
    "        improved_list.append(0)\n",
    "outputTrain['Improved'] = improved_list"
   ]
  },
  {
   "cell_type": "code",
   "execution_count": null,
   "metadata": {
    "collapsed": false
   },
   "outputs": [],
   "source": [
    "len(outputTrain[outputTrain['GradeDiff'].isnull()])"
   ]
  },
  {
   "cell_type": "code",
   "execution_count": null,
   "metadata": {
    "collapsed": false,
    "scrolled": true
   },
   "outputs": [],
   "source": [
    "#outputTrain = outputTrain.dropna()\n",
    "outputTrain[['Grade','GradeDiff','Improved']]"
   ]
  },
  {
   "cell_type": "code",
   "execution_count": null,
   "metadata": {
    "collapsed": false,
    "scrolled": true
   },
   "outputs": [],
   "source": [
    "outputTrain"
   ]
  },
  {
   "cell_type": "code",
   "execution_count": null,
   "metadata": {
    "collapsed": false
   },
   "outputs": [],
   "source": [
    "from __future__ import division\n",
    "len(outputTrain[outputTrain['Improved']==1])/len(outputTrain[outputTrain['Improved']==0])"
   ]
  },
  {
   "cell_type": "code",
   "execution_count": null,
   "metadata": {
    "collapsed": false
   },
   "outputs": [],
   "source": [
    "len(outputTrain[outputTrain['Improved']==0])#+len(outputTrain[outputTrain['Improved']==0])"
   ]
  },
  {
   "cell_type": "code",
   "execution_count": null,
   "metadata": {
    "collapsed": false
   },
   "outputs": [],
   "source": [
    "len(outputTrain)"
   ]
  },
  {
   "cell_type": "code",
   "execution_count": 33,
   "metadata": {
    "collapsed": false,
    "scrolled": true
   },
   "outputs": [],
   "source": [
    "df_try = outputTrain[outputTrain['Improved'] == 0]\n",
    "outputTrain = outputTrain.append([df_try]*2,ignore_index=True)"
   ]
  },
  {
   "cell_type": "code",
   "execution_count": 4,
   "metadata": {
    "collapsed": false
   },
   "outputs": [
    {
     "data": {
      "text/plain": [
       "Index([u'ProblemID', u'UserID', u'SubmissionNumber', u'TimeStamp',\n",
       "       u'TimeSinceLast', u'Grade', u'GradeDiff', u'NVideoEvents',\n",
       "       u'NForumEvents', u'NumberOfLoads', u'NVideoAndForum_',\n",
       "       u'NumberOfDownloads', u'NumberOfPlays', u'SeenVideo', u'NumberOfPauses',\n",
       "       u'AverageVideoTimeDiffs', u'NumberOfThreadViews',\n",
       "       u'NumberOfThreadsLaunched', u'DistinctIds', u'NumberOfComments',\n",
       "       u'ScoreRelevantEvents', u'ComAndPost', u'DurationOfVideoActivity',\n",
       "       u'SelectiveNumOfEvents', u'NumberOfPosts', u'NumberOfSpeedChange',\n",
       "       u'PlaysDownlsPerVideo', u'Improved'],\n",
       "      dtype='object')"
      ]
     },
     "execution_count": 4,
     "metadata": {},
     "output_type": "execute_result"
    }
   ],
   "source": [
    "outputTrain.columns"
   ]
  },
  {
   "cell_type": "code",
   "execution_count": 6,
   "metadata": {
    "collapsed": false
   },
   "outputs": [
    {
     "data": {
      "text/html": [
       "<div>\n",
       "<table border=\"1\" class=\"dataframe\">\n",
       "  <thead>\n",
       "    <tr style=\"text-align: right;\">\n",
       "      <th></th>\n",
       "      <th>ProblemID</th>\n",
       "      <th>UserID</th>\n",
       "      <th>SubmissionNumber</th>\n",
       "      <th>TimeStamp</th>\n",
       "      <th>TimeSinceLast</th>\n",
       "      <th>Grade</th>\n",
       "      <th>GradeDiff</th>\n",
       "      <th>NVideoEvents</th>\n",
       "      <th>NForumEvents</th>\n",
       "      <th>NumberOfLoads</th>\n",
       "      <th>...</th>\n",
       "      <th>DistinctIds</th>\n",
       "      <th>NumberOfComments</th>\n",
       "      <th>ScoreRelevantEvents</th>\n",
       "      <th>ComAndPost</th>\n",
       "      <th>DurationOfVideoActivity</th>\n",
       "      <th>SelectiveNumOfEvents</th>\n",
       "      <th>NumberOfPosts</th>\n",
       "      <th>NumberOfSpeedChange</th>\n",
       "      <th>PlaysDownlsPerVideo</th>\n",
       "      <th>Improved</th>\n",
       "    </tr>\n",
       "  </thead>\n",
       "  <tbody>\n",
       "    <tr>\n",
       "      <th>0</th>\n",
       "      <td>0</td>\n",
       "      <td>0f8619e980de128c5fc940567257a513</td>\n",
       "      <td>0</td>\n",
       "      <td>1393149950</td>\n",
       "      <td>0.0</td>\n",
       "      <td>83.333333</td>\n",
       "      <td>0.000000</td>\n",
       "      <td>0.0</td>\n",
       "      <td>0.0</td>\n",
       "      <td>0.0</td>\n",
       "      <td>...</td>\n",
       "      <td>0.0</td>\n",
       "      <td>0.0</td>\n",
       "      <td>0.0</td>\n",
       "      <td>0.0</td>\n",
       "      <td>0.0</td>\n",
       "      <td>0.0</td>\n",
       "      <td>0.0</td>\n",
       "      <td>0.0</td>\n",
       "      <td>0.0</td>\n",
       "      <td>0</td>\n",
       "    </tr>\n",
       "    <tr>\n",
       "      <th>1</th>\n",
       "      <td>0</td>\n",
       "      <td>c08faf7d79db5d0f90f25962bcc40727</td>\n",
       "      <td>0</td>\n",
       "      <td>1393261919</td>\n",
       "      <td>0.0</td>\n",
       "      <td>61.111168</td>\n",
       "      <td>0.000000</td>\n",
       "      <td>0.0</td>\n",
       "      <td>0.0</td>\n",
       "      <td>0.0</td>\n",
       "      <td>...</td>\n",
       "      <td>0.0</td>\n",
       "      <td>0.0</td>\n",
       "      <td>0.0</td>\n",
       "      <td>0.0</td>\n",
       "      <td>0.0</td>\n",
       "      <td>0.0</td>\n",
       "      <td>0.0</td>\n",
       "      <td>0.0</td>\n",
       "      <td>0.0</td>\n",
       "      <td>0</td>\n",
       "    </tr>\n",
       "    <tr>\n",
       "      <th>2</th>\n",
       "      <td>0</td>\n",
       "      <td>c08faf7d79db5d0f90f25962bcc40727</td>\n",
       "      <td>1</td>\n",
       "      <td>1393262186</td>\n",
       "      <td>267.0</td>\n",
       "      <td>66.666667</td>\n",
       "      <td>5.555499</td>\n",
       "      <td>0.0</td>\n",
       "      <td>0.0</td>\n",
       "      <td>0.0</td>\n",
       "      <td>...</td>\n",
       "      <td>0.0</td>\n",
       "      <td>0.0</td>\n",
       "      <td>0.0</td>\n",
       "      <td>0.0</td>\n",
       "      <td>0.0</td>\n",
       "      <td>0.0</td>\n",
       "      <td>0.0</td>\n",
       "      <td>0.0</td>\n",
       "      <td>0.0</td>\n",
       "      <td>1</td>\n",
       "    </tr>\n",
       "    <tr>\n",
       "      <th>3</th>\n",
       "      <td>0</td>\n",
       "      <td>c08faf7d79db5d0f90f25962bcc40727</td>\n",
       "      <td>2</td>\n",
       "      <td>1393262705</td>\n",
       "      <td>519.0</td>\n",
       "      <td>83.333333</td>\n",
       "      <td>16.666667</td>\n",
       "      <td>0.0</td>\n",
       "      <td>0.0</td>\n",
       "      <td>0.0</td>\n",
       "      <td>...</td>\n",
       "      <td>0.0</td>\n",
       "      <td>0.0</td>\n",
       "      <td>0.0</td>\n",
       "      <td>0.0</td>\n",
       "      <td>0.0</td>\n",
       "      <td>0.0</td>\n",
       "      <td>0.0</td>\n",
       "      <td>0.0</td>\n",
       "      <td>0.0</td>\n",
       "      <td>1</td>\n",
       "    </tr>\n",
       "    <tr>\n",
       "      <th>4</th>\n",
       "      <td>0</td>\n",
       "      <td>c08faf7d79db5d0f90f25962bcc40727</td>\n",
       "      <td>3</td>\n",
       "      <td>1393264265</td>\n",
       "      <td>1560.0</td>\n",
       "      <td>100.000000</td>\n",
       "      <td>16.666667</td>\n",
       "      <td>12.0</td>\n",
       "      <td>1.0</td>\n",
       "      <td>2.0</td>\n",
       "      <td>...</td>\n",
       "      <td>2.0</td>\n",
       "      <td>0.0</td>\n",
       "      <td>0.0</td>\n",
       "      <td>0.0</td>\n",
       "      <td>78.0</td>\n",
       "      <td>7.0</td>\n",
       "      <td>0.0</td>\n",
       "      <td>3.0</td>\n",
       "      <td>0.5</td>\n",
       "      <td>1</td>\n",
       "    </tr>\n",
       "  </tbody>\n",
       "</table>\n",
       "<p>5 rows × 28 columns</p>\n",
       "</div>"
      ],
      "text/plain": [
       "   ProblemID                            UserID  SubmissionNumber   TimeStamp  \\\n",
       "0          0  0f8619e980de128c5fc940567257a513                 0  1393149950   \n",
       "1          0  c08faf7d79db5d0f90f25962bcc40727                 0  1393261919   \n",
       "2          0  c08faf7d79db5d0f90f25962bcc40727                 1  1393262186   \n",
       "3          0  c08faf7d79db5d0f90f25962bcc40727                 2  1393262705   \n",
       "4          0  c08faf7d79db5d0f90f25962bcc40727                 3  1393264265   \n",
       "\n",
       "   TimeSinceLast       Grade  GradeDiff  NVideoEvents  NForumEvents  \\\n",
       "0            0.0   83.333333   0.000000           0.0           0.0   \n",
       "1            0.0   61.111168   0.000000           0.0           0.0   \n",
       "2          267.0   66.666667   5.555499           0.0           0.0   \n",
       "3          519.0   83.333333  16.666667           0.0           0.0   \n",
       "4         1560.0  100.000000  16.666667          12.0           1.0   \n",
       "\n",
       "   NumberOfLoads    ...     DistinctIds  NumberOfComments  \\\n",
       "0            0.0    ...             0.0               0.0   \n",
       "1            0.0    ...             0.0               0.0   \n",
       "2            0.0    ...             0.0               0.0   \n",
       "3            0.0    ...             0.0               0.0   \n",
       "4            2.0    ...             2.0               0.0   \n",
       "\n",
       "   ScoreRelevantEvents  ComAndPost  DurationOfVideoActivity  \\\n",
       "0                  0.0         0.0                      0.0   \n",
       "1                  0.0         0.0                      0.0   \n",
       "2                  0.0         0.0                      0.0   \n",
       "3                  0.0         0.0                      0.0   \n",
       "4                  0.0         0.0                     78.0   \n",
       "\n",
       "   SelectiveNumOfEvents  NumberOfPosts  NumberOfSpeedChange  \\\n",
       "0                   0.0            0.0                  0.0   \n",
       "1                   0.0            0.0                  0.0   \n",
       "2                   0.0            0.0                  0.0   \n",
       "3                   0.0            0.0                  0.0   \n",
       "4                   7.0            0.0                  3.0   \n",
       "\n",
       "   PlaysDownlsPerVideo  Improved  \n",
       "0                  0.0         0  \n",
       "1                  0.0         0  \n",
       "2                  0.0         1  \n",
       "3                  0.0         1  \n",
       "4                  0.5         1  \n",
       "\n",
       "[5 rows x 28 columns]"
      ]
     },
     "execution_count": 6,
     "metadata": {},
     "output_type": "execute_result"
    }
   ],
   "source": [
    "outputTrain.fillna(0, inplace=True)\n",
    "outputTrain.head()"
   ]
  },
  {
   "cell_type": "code",
   "execution_count": 9,
   "metadata": {
    "collapsed": false
   },
   "outputs": [],
   "source": [
    "from sklearn.model_selection import train_test_split\n",
    "X = outputTrain[['ProblemID', u'SubmissionNumber', u'TimeStamp',\n",
    "       u'TimeSinceLast', u'NVideoEvents',\n",
    "       u'NForumEvents', u'NumberOfLoads', u'NVideoAndForum_',\n",
    "       u'NumberOfDownloads', u'NumberOfPlays', u'SeenVideo', u'NumberOfPauses',\n",
    "       u'AverageVideoTimeDiffs', u'NumberOfThreadViews',\n",
    "       u'NumberOfThreadsLaunched', u'DistinctIds', u'NumberOfComments',\n",
    "       u'ScoreRelevantEvents', u'ComAndPost', u'DurationOfVideoActivity',\n",
    "       u'SelectiveNumOfEvents', u'NumberOfPosts', u'NumberOfSpeedChange',\n",
    "       u'PlaysDownlsPerVideo']]\n",
    "y = outputTrain['Improved']\n",
    "X_train, X_test, y_train_binary, y_test_binary = train_test_split(X,y, test_size=0.1)"
   ]
  },
  {
   "cell_type": "code",
   "execution_count": 10,
   "metadata": {
    "collapsed": false
   },
   "outputs": [],
   "source": [
    "from sklearn.ensemble import RandomForestClassifier\n",
    "forest_binary = RandomForestClassifier()\n",
    "\n",
    "# Passing the training input and labels along with weights vector to train our random forest in balanced mode  \n",
    "forest_binary = forest_binary.fit(X_train, y_train_binary)"
   ]
  },
  {
   "cell_type": "code",
   "execution_count": 11,
   "metadata": {
    "collapsed": true
   },
   "outputs": [],
   "source": [
    "result_binary_test = forest_binary.predict(X_test)"
   ]
  },
  {
   "cell_type": "code",
   "execution_count": 12,
   "metadata": {
    "collapsed": false
   },
   "outputs": [],
   "source": [
    "from sklearn.model_selection import cross_val_score, train_test_split, cross_val_predict, learning_curve\n",
    "result_binary_train = forest_binary.predict(X_train)\n",
    "scores_binary_roc_auc = cross_val_score(forest_binary,  X, y, cv=10, scoring='roc_auc')"
   ]
  },
  {
   "cell_type": "code",
   "execution_count": 13,
   "metadata": {
    "collapsed": false
   },
   "outputs": [
    {
     "data": {
      "text/plain": [
       "0.82725195516244232"
      ]
     },
     "execution_count": 13,
     "metadata": {},
     "output_type": "execute_result"
    }
   ],
   "source": [
    "scores_binary_roc_auc.mean()"
   ]
  },
  {
   "cell_type": "code",
   "execution_count": 14,
   "metadata": {
    "collapsed": false
   },
   "outputs": [],
   "source": [
    "\n",
    "import matplotlib.pyplot as plt\n",
    "def plot_confusion_matrix(cm, classes,\n",
    "                          normalize=False,\n",
    "                          title='Confusion matrix',\n",
    "                          cmap=plt.cm.Blues):\n",
    "    \"\"\"\n",
    "    This function prints and plots the confusion matrix.\n",
    "    Normalization can be applied by setting `normalize=True`.\n",
    "    \"\"\"\n",
    "    plt.imshow(cm, interpolation='nearest', cmap=cmap)\n",
    "    plt.title(title)\n",
    "    plt.colorbar()\n",
    "    tick_marks = np.arange(len(classes))\n",
    "    plt.xticks(tick_marks, classes, rotation=45)\n",
    "    plt.yticks(tick_marks, classes)\n",
    "    plt.tight_layout()\n",
    "    plt.ylabel('True label')\n",
    "    plt.xlabel('Predicted label')"
   ]
  },
  {
   "cell_type": "code",
   "execution_count": 15,
   "metadata": {
    "collapsed": false
   },
   "outputs": [
    {
     "data": {
      "image/png": "[encoded data removed]",
      "text/plain": [
       "<matplotlib.figure.Figure at 0x7fb4364951d0>"
      ]
     },
     "metadata": {},
     "output_type": "display_data"
    }
   ],
   "source": [
    "%matplotlib inline\n",
    "import numpy as np\n",
    "from sklearn import metrics\n",
    "cm=metrics.confusion_matrix(y_test_binary, result_binary_test)\n",
    "plot_confusion_matrix(cm, classes=['Yes','No'],\n",
    "                      title='Confusion matrix, without normalization')"
   ]
  },
  {
   "cell_type": "code",
   "execution_count": 16,
   "metadata": {
    "collapsed": false
   },
   "outputs": [
    {
     "data": {
      "text/plain": [
       "0.88427653990169464"
      ]
     },
     "execution_count": 16,
     "metadata": {},
     "output_type": "execute_result"
    }
   ],
   "source": [
    "metrics.roc_auc_score(y_test_binary, result_binary_test)"
   ]
  },
  {
   "cell_type": "code",
   "execution_count": 17,
   "metadata": {
    "collapsed": false
   },
   "outputs": [
    {
     "name": "stdout",
     "output_type": "stream",
     "text": [
      "('Accuracy Score: ', 0.91596834264432025)\n",
      "('Precision Score: ', 0.90549662487946003)\n",
      "('Recall Score: ', 0.97676837725381416)\n",
      "('f1_score: ', 0.93978315262718937)\n"
     ]
    }
   ],
   "source": [
    "print('Accuracy Score: ',metrics.accuracy_score(y_test_binary, result_binary_test))\n",
    "print('Precision Score: ',metrics.precision_score(y_test_binary, result_binary_test))\n",
    "print('Recall Score: ',metrics.recall_score(y_test_binary, result_binary_test))\n",
    "print('f1_score: ',metrics.f1_score(y_test_binary, result_binary_test))"
   ]
  },
  {
   "cell_type": "markdown",
   "metadata": {},
   "source": [
    "### OutputTableTest"
   ]
  },
  {
   "cell_type": "code",
   "execution_count": 18,
   "metadata": {
    "collapsed": false,
    "scrolled": true
   },
   "outputs": [
    {
     "data": {
      "text/html": [
       "<div>\n",
       "<table border=\"1\" class=\"dataframe\">\n",
       "  <thead>\n",
       "    <tr style=\"text-align: right;\">\n",
       "      <th></th>\n",
       "      <th>ProblemID</th>\n",
       "      <th>SubmissionNumber</th>\n",
       "      <th>TimeStamp</th>\n",
       "      <th>TimeSinceLast</th>\n",
       "      <th>NVideoEvents</th>\n",
       "      <th>NForumEvents</th>\n",
       "      <th>NumberOfLoads</th>\n",
       "      <th>NVideoAndForum_</th>\n",
       "      <th>NumberOfDownloads</th>\n",
       "      <th>NumberOfPlays</th>\n",
       "      <th>...</th>\n",
       "      <th>NumberOfThreadsLaunched</th>\n",
       "      <th>DistinctIds</th>\n",
       "      <th>NumberOfComments</th>\n",
       "      <th>ScoreRelevantEvents</th>\n",
       "      <th>ComAndPost</th>\n",
       "      <th>DurationOfVideoActivity</th>\n",
       "      <th>SelectiveNumOfEvents</th>\n",
       "      <th>NumberOfPosts</th>\n",
       "      <th>NumberOfSpeedChange</th>\n",
       "      <th>PlaysDownlsPerVideo</th>\n",
       "    </tr>\n",
       "  </thead>\n",
       "  <tbody>\n",
       "    <tr>\n",
       "      <th>0</th>\n",
       "      <td>0</td>\n",
       "      <td>0</td>\n",
       "      <td>1393254389</td>\n",
       "      <td>0.0</td>\n",
       "      <td>0.0</td>\n",
       "      <td>0.0</td>\n",
       "      <td>0.0</td>\n",
       "      <td>0.0</td>\n",
       "      <td>0.0</td>\n",
       "      <td>0.0</td>\n",
       "      <td>...</td>\n",
       "      <td>0.0</td>\n",
       "      <td>0.0</td>\n",
       "      <td>0.0</td>\n",
       "      <td>0.0</td>\n",
       "      <td>0.0</td>\n",
       "      <td>0.0</td>\n",
       "      <td>0.0</td>\n",
       "      <td>0.0</td>\n",
       "      <td>0.0</td>\n",
       "      <td>0.0</td>\n",
       "    </tr>\n",
       "    <tr>\n",
       "      <th>1</th>\n",
       "      <td>0</td>\n",
       "      <td>1</td>\n",
       "      <td>1393254447</td>\n",
       "      <td>58.0</td>\n",
       "      <td>0.0</td>\n",
       "      <td>0.0</td>\n",
       "      <td>0.0</td>\n",
       "      <td>0.0</td>\n",
       "      <td>0.0</td>\n",
       "      <td>0.0</td>\n",
       "      <td>...</td>\n",
       "      <td>0.0</td>\n",
       "      <td>0.0</td>\n",
       "      <td>0.0</td>\n",
       "      <td>0.0</td>\n",
       "      <td>0.0</td>\n",
       "      <td>0.0</td>\n",
       "      <td>0.0</td>\n",
       "      <td>0.0</td>\n",
       "      <td>0.0</td>\n",
       "      <td>0.0</td>\n",
       "    </tr>\n",
       "    <tr>\n",
       "      <th>2</th>\n",
       "      <td>0</td>\n",
       "      <td>2</td>\n",
       "      <td>1394138039</td>\n",
       "      <td>883592.0</td>\n",
       "      <td>0.0</td>\n",
       "      <td>0.0</td>\n",
       "      <td>0.0</td>\n",
       "      <td>0.0</td>\n",
       "      <td>0.0</td>\n",
       "      <td>0.0</td>\n",
       "      <td>...</td>\n",
       "      <td>0.0</td>\n",
       "      <td>0.0</td>\n",
       "      <td>0.0</td>\n",
       "      <td>0.0</td>\n",
       "      <td>0.0</td>\n",
       "      <td>0.0</td>\n",
       "      <td>0.0</td>\n",
       "      <td>0.0</td>\n",
       "      <td>0.0</td>\n",
       "      <td>0.0</td>\n",
       "    </tr>\n",
       "    <tr>\n",
       "      <th>3</th>\n",
       "      <td>0</td>\n",
       "      <td>3</td>\n",
       "      <td>1394138256</td>\n",
       "      <td>217.0</td>\n",
       "      <td>0.0</td>\n",
       "      <td>0.0</td>\n",
       "      <td>0.0</td>\n",
       "      <td>0.0</td>\n",
       "      <td>0.0</td>\n",
       "      <td>0.0</td>\n",
       "      <td>...</td>\n",
       "      <td>0.0</td>\n",
       "      <td>0.0</td>\n",
       "      <td>0.0</td>\n",
       "      <td>0.0</td>\n",
       "      <td>0.0</td>\n",
       "      <td>0.0</td>\n",
       "      <td>0.0</td>\n",
       "      <td>0.0</td>\n",
       "      <td>0.0</td>\n",
       "      <td>0.0</td>\n",
       "    </tr>\n",
       "    <tr>\n",
       "      <th>4</th>\n",
       "      <td>0</td>\n",
       "      <td>4</td>\n",
       "      <td>1394138387</td>\n",
       "      <td>131.0</td>\n",
       "      <td>0.0</td>\n",
       "      <td>0.0</td>\n",
       "      <td>0.0</td>\n",
       "      <td>0.0</td>\n",
       "      <td>0.0</td>\n",
       "      <td>0.0</td>\n",
       "      <td>...</td>\n",
       "      <td>0.0</td>\n",
       "      <td>0.0</td>\n",
       "      <td>0.0</td>\n",
       "      <td>0.0</td>\n",
       "      <td>0.0</td>\n",
       "      <td>0.0</td>\n",
       "      <td>0.0</td>\n",
       "      <td>0.0</td>\n",
       "      <td>0.0</td>\n",
       "      <td>0.0</td>\n",
       "    </tr>\n",
       "  </tbody>\n",
       "</table>\n",
       "<p>5 rows × 24 columns</p>\n",
       "</div>"
      ],
      "text/plain": [
       "   ProblemID  SubmissionNumber   TimeStamp  TimeSinceLast  NVideoEvents  \\\n",
       "0          0                 0  1393254389            0.0           0.0   \n",
       "1          0                 1  1393254447           58.0           0.0   \n",
       "2          0                 2  1394138039       883592.0           0.0   \n",
       "3          0                 3  1394138256          217.0           0.0   \n",
       "4          0                 4  1394138387          131.0           0.0   \n",
       "\n",
       "   NForumEvents  NumberOfLoads  NVideoAndForum_  NumberOfDownloads  \\\n",
       "0           0.0            0.0              0.0                0.0   \n",
       "1           0.0            0.0              0.0                0.0   \n",
       "2           0.0            0.0              0.0                0.0   \n",
       "3           0.0            0.0              0.0                0.0   \n",
       "4           0.0            0.0              0.0                0.0   \n",
       "\n",
       "   NumberOfPlays         ...           NumberOfThreadsLaunched  DistinctIds  \\\n",
       "0            0.0         ...                               0.0          0.0   \n",
       "1            0.0         ...                               0.0          0.0   \n",
       "2            0.0         ...                               0.0          0.0   \n",
       "3            0.0         ...                               0.0          0.0   \n",
       "4            0.0         ...                               0.0          0.0   \n",
       "\n",
       "   NumberOfComments  ScoreRelevantEvents  ComAndPost  DurationOfVideoActivity  \\\n",
       "0               0.0                  0.0         0.0                      0.0   \n",
       "1               0.0                  0.0         0.0                      0.0   \n",
       "2               0.0                  0.0         0.0                      0.0   \n",
       "3               0.0                  0.0         0.0                      0.0   \n",
       "4               0.0                  0.0         0.0                      0.0   \n",
       "\n",
       "   SelectiveNumOfEvents  NumberOfPosts  NumberOfSpeedChange  \\\n",
       "0                   0.0            0.0                  0.0   \n",
       "1                   0.0            0.0                  0.0   \n",
       "2                   0.0            0.0                  0.0   \n",
       "3                   0.0            0.0                  0.0   \n",
       "4                   0.0            0.0                  0.0   \n",
       "\n",
       "   PlaysDownlsPerVideo  \n",
       "0                  0.0  \n",
       "1                  0.0  \n",
       "2                  0.0  \n",
       "3                  0.0  \n",
       "4                  0.0  \n",
       "\n",
       "[5 rows x 24 columns]"
      ]
     },
     "execution_count": 18,
     "metadata": {},
     "output_type": "execute_result"
    }
   ],
   "source": [
    "import pandas as pd\n",
    "outputTest = pd.read_csv('OutputTableTest.csv')\n",
    "#outputTest.head()\n",
    "outputTest.fillna(0, inplace=True)\n",
    "X_test = outputTest[['ProblemID', u'SubmissionNumber', u'TimeStamp',\n",
    "       u'TimeSinceLast', u'NVideoEvents',\n",
    "       u'NForumEvents', u'NumberOfLoads', u'NVideoAndForum_',\n",
    "       u'NumberOfDownloads', u'NumberOfPlays', u'SeenVideo', u'NumberOfPauses',\n",
    "       u'AverageVideoTimeDiffs', u'NumberOfThreadViews',\n",
    "       u'NumberOfThreadsLaunched', u'DistinctIds', u'NumberOfComments',\n",
    "       u'ScoreRelevantEvents', u'ComAndPost', u'DurationOfVideoActivity',\n",
    "       u'SelectiveNumOfEvents', u'NumberOfPosts', u'NumberOfSpeedChange',\n",
    "       u'PlaysDownlsPerVideo']]\n",
    "X_test.head()"
   ]
  },
  {
   "cell_type": "code",
   "execution_count": 19,
   "metadata": {
    "collapsed": false
   },
   "outputs": [],
   "source": [
    "result_binary_test_test = forest_binary.predict(X_test)"
   ]
  },
  {
   "cell_type": "code",
   "execution_count": 20,
   "metadata": {
    "collapsed": false
   },
   "outputs": [
    {
     "data": {
      "text/plain": [
       "26062"
      ]
     },
     "execution_count": 20,
     "metadata": {},
     "output_type": "execute_result"
    }
   ],
   "source": [
    "len(result_binary_test_test)"
   ]
  },
  {
   "cell_type": "markdown",
   "metadata": {},
   "source": [
    "## Preparing file for Kaggle Submission"
   ]
  },
  {
   "cell_type": "code",
   "execution_count": 21,
   "metadata": {
    "collapsed": false
   },
   "outputs": [
    {
     "name": "stderr",
     "output_type": "stream",
     "text": [
      "/home/meryem/miniconda2/lib/python2.7/site-packages/ipykernel/__main__.py:2: SettingWithCopyWarning: \n",
      "A value is trying to be set on a copy of a slice from a DataFrame.\n",
      "Try using .loc[row_indexer,col_indexer] = value instead\n",
      "\n",
      "See the caveats in the documentation: http://pandas.pydata.org/pandas-docs/stable/indexing.html#indexing-view-versus-copy\n",
      "  from ipykernel import kernelapp as app\n"
     ]
    },
    {
     "data": {
      "text/plain": [
       "26062"
      ]
     },
     "execution_count": 21,
     "metadata": {},
     "output_type": "execute_result"
    }
   ],
   "source": [
    "outputTestResult = outputTest[['ProblemID','UserID','SubmissionNumber']]\n",
    "outputTestResult['improved'] = result_binary_test_test\n",
    "outputTestResult.head()\n",
    "outputTestResult.to_csv('/media/diskD/EPFL/Fall 2016/DELA/DELA_Project/Classification/output_python.csv')\n",
    "len(outputTestResult)"
   ]
  },
  {
   "cell_type": "code",
   "execution_count": 22,
   "metadata": {
    "collapsed": false
   },
   "outputs": [
    {
     "name": "stderr",
     "output_type": "stream",
     "text": [
      "/home/meryem/miniconda2/lib/python2.7/site-packages/ipykernel/__main__.py:2: SettingWithCopyWarning: \n",
      "A value is trying to be set on a copy of a slice from a DataFrame.\n",
      "Try using .loc[row_indexer,col_indexer] = value instead\n",
      "\n",
      "See the caveats in the documentation: http://pandas.pydata.org/pandas-docs/stable/indexing.html#indexing-view-versus-copy\n",
      "  from ipykernel import kernelapp as app\n",
      "/home/meryem/miniconda2/lib/python2.7/site-packages/ipykernel/__main__.py:6: SettingWithCopyWarning: \n",
      "A value is trying to be set on a copy of a slice from a DataFrame.\n",
      "Try using .loc[row_indexer,col_indexer] = value instead\n",
      "\n",
      "See the caveats in the documentation: http://pandas.pydata.org/pandas-docs/stable/indexing.html#indexing-view-versus-copy\n"
     ]
    },
    {
     "data": {
      "text/plain": [
       "2772"
      ]
     },
     "execution_count": 22,
     "metadata": {},
     "output_type": "execute_result"
    }
   ],
   "source": [
    "outputTestResult = outputTest[['ProblemID','UserID','SubmissionNumber']]\n",
    "outputTestResult['improved'] = result_binary_test_test\n",
    "concatenation = []\n",
    "for i in range(0,len(outputTestResult)):\n",
    "    concatenation.append(str(outputTestResult.iloc[i][\"UserID\"])+\"_\"+str(outputTestResult.iloc[i]['ProblemID'])+\"_\"+str(outputTestResult.iloc[i][\"SubmissionNumber\"]))\n",
    "outputTestResult['uniqRowID'] = concatenation \n",
    "outputTestResult = outputTestResult[['uniqRowID','improved']]\n",
    "\n",
    "#----- keep only rows which are listed in classifier_templtae.csv file\n",
    "#----- this excludes first submissions and cases with no forum and video event in between two submissions\n",
    "classifier_template= pd.read_csv('/media/diskD/EPFL/Fall 2016/DELA/DELA_Project/Classification/classifier_template.csv')\n",
    "#kaggleSubmission=merge(classifier_template,outputTestResult)\n",
    "kaggleSubmission= classifier_template.merge(outputTestResult,on='uniqRowID')\n",
    "#write.csv(kaggleSubmission,file='/media/diskD/EPFL/Fall 2016/DELA/DELA_Project/Classification/classifier_results_rf.csv', row.names = F)\n",
    "kaggleSubmission.head()\n",
    "kaggleSubmission.to_csv('/media/diskD/EPFL/Fall 2016/DELA/DELA_Project/Classification/results_hopefully.csv', index=False)\n",
    "len(kaggleSubmission)"
   ]
  },
  {
   "cell_type": "code",
   "execution_count": 23,
   "metadata": {
    "collapsed": true
   },
   "outputs": [],
   "source": [
    "kaggleSubmission.to_csv('/media/diskD/EPFL/Fall 2016/DELA/DELA_Project/Classification/results_hopefully.csv', index=False)"
   ]
  },
  {
   "cell_type": "code",
   "execution_count": null,
   "metadata": {
    "collapsed": false
   },
   "outputs": [],
   "source": [
    "kaggleSubmission[]"
   ]
  },
  {
   "cell_type": "code",
   "execution_count": null,
   "metadata": {
    "collapsed": true
   },
   "outputs": [],
   "source": [
    "caller = pd.DataFrame({'key': ['K0', 'K1', 'K2', 'K3', 'K4', 'K5'],\n",
    "                        'A': ['A0', 'A1', 'A2', 'A3', 'A4', 'A5']})"
   ]
  },
  {
   "cell_type": "code",
   "execution_count": null,
   "metadata": {
    "collapsed": true
   },
   "outputs": [],
   "source": [
    "other = pd.DataFrame({'key': ['K2', 'K1', 'K0']})"
   ]
  },
  {
   "cell_type": "code",
   "execution_count": null,
   "metadata": {
    "collapsed": false
   },
   "outputs": [],
   "source": [
    "caller.join(other, lsuffix='_caller')"
   ]
  },
  {
   "cell_type": "code",
   "execution_count": null,
   "metadata": {
    "collapsed": false
   },
   "outputs": [],
   "source": [
    "other.merge(caller,on='key')"
   ]
  },
  {
   "cell_type": "code",
   "execution_count": null,
   "metadata": {
    "collapsed": true
   },
   "outputs": [],
   "source": []
  }
 ],
 "metadata": {
  "kernelspec": {
   "display_name": "Python 2",
   "language": "python",
   "name": "python2"
  },
  "language_info": {
   "codemirror_mode": {
    "name": "ipython",
    "version": 2
   },
   "file_extension": ".py",
   "mimetype": "text/x-python",
   "name": "python",
   "nbconvert_exporter": "python",
   "pygments_lexer": "ipython2",
   "version": "2.7.12"
  }
 },
 "nbformat": 4,
 "nbformat_minor": 0
}
